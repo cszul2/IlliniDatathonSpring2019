{
 "cells": [
  {
   "cell_type": "code",
   "execution_count": 159,
   "metadata": {},
   "outputs": [],
   "source": [
    "import tweepy\n",
    "import pandas as pd\n",
    "import numpy as np\n",
    "from textblob import TextBlob\n",
    "import re\n",
    "import matplotlib.pyplot as plt"
   ]
  },
  {
   "cell_type": "code",
   "execution_count": 160,
   "metadata": {},
   "outputs": [],
   "source": [
    "access_token = '410230715-3aP2U5HQQH0Q30cGhlA18LNxTWMy92uYJI4zRsiF'\n",
    "access_secret = 'u08GW2qZKc6l1hIsMm6qpnigPTwePKIFa8dNjiUcOTY3c'\n",
    "consumer_key = 'UYSbjVgl9cvQdiDeXUfE43zFx'\n",
    "consumer_secret = 'kZxuwRznYmwwwK3qhsgkPZ9KFNN2URVZg7AtshlxCePGMeBFxP'\n",
    "auth = tweepy.OAuthHandler(consumer_key, consumer_secret)\n",
    "auth.set_access_token(access_token, access_secret)\n",
    "api = tweepy.API(auth, wait_on_rate_limit=True, wait_on_rate_limit_notify=True, compression=True)"
   ]
  },
  {
   "cell_type": "code",
   "execution_count": 166,
   "metadata": {},
   "outputs": [],
   "source": [
    "extractor = api\n",
    "# We create a tweet list as follows:\n",
    "honeywell = extractor.user_timeline(screen_name=\"honeywell\",since = '2018-12-01',until = '2018-12-31',count = 200,max_id = '1096553786527703045')\n",
    "synch = extractor.user_timeline(screen_name=\"synchrony\",since = '2018-12-01',until = '2018-12-31', count=200,max_id = '1096553786527703045')\n",
    "m_3 = extractor.user_timeline(screen_name=\"3m\",since = '2018-12-01',until = '2018-12-31', count=200,max_id = '1096553786527703045')\n",
    "bayer = extractor.user_timeline(screen_name=\"bayer\",since = '2018-12-01',until = '2018-12-31', count=200,max_id = '1096553786527703045')"
   ]
  },
  {
   "cell_type": "code",
   "execution_count": 167,
   "metadata": {},
   "outputs": [],
   "source": [
    "honeywell_df = pd.DataFrame(data=[tweet.text for tweet in honeywell],columns = ['Tweets'])\n",
    "synch_df = pd.DataFrame(data=[tweet.text for tweet in synch],columns = ['Tweets'])\n",
    "m_3_df = pd.DataFrame(data=[tweet.text for tweet in m_3],columns = ['Tweets'])\n",
    "bayer_df = pd.DataFrame(data=[tweet.text for tweet in bayer],columns = ['Tweets'])"
   ]
  },
  {
   "cell_type": "code",
   "execution_count": 168,
   "metadata": {},
   "outputs": [],
   "source": [
    "honeywell_df['len']  = np.array([len(tweet.text) for tweet in honeywell])\n",
    "honeywell_df['ID']   = np.array([tweet.id for tweet in honeywell])\n",
    "honeywell_df['Date'] = np.array([tweet.created_at for tweet in honeywell])\n",
    "honeywell_df['Source'] = np.array([tweet.source for tweet in honeywell])\n",
    "honeywell_df['Likes']  = np.array([tweet.favorite_count for tweet in honeywell])\n",
    "honeywell_df['RTs']    = np.array([tweet.retweet_count for tweet in honeywell])\n",
    "\n",
    "synch_df['len']  = np.array([len(tweet.text) for tweet in synch])\n",
    "synch_df['ID']   = np.array([tweet.id for tweet in synch])\n",
    "synch_df['Date'] = np.array([tweet.created_at for tweet in synch])\n",
    "synch_df['Source'] = np.array([tweet.source for tweet in synch])\n",
    "synch_df['Likes']  = np.array([tweet.favorite_count for tweet in synch])\n",
    "synch_df['RTs']    = np.array([tweet.retweet_count for tweet in synch])\n",
    "\n",
    "m_3_df['len']  = np.array([len(tweet.text) for tweet in m_3])\n",
    "m_3_df['ID']   = np.array([tweet.id for tweet in m_3])\n",
    "m_3_df['Date'] = np.array([tweet.created_at for tweet in m_3])\n",
    "m_3_df['Source'] = np.array([tweet.source for tweet in m_3])\n",
    "m_3_df['Likes']  = np.array([tweet.favorite_count for tweet in m_3])\n",
    "m_3_df['RTs']    = np.array([tweet.retweet_count for tweet in m_3])\n",
    "\n",
    "bayer_df['len']  = np.array([len(tweet.text) for tweet in bayer])\n",
    "bayer_df['ID']   = np.array([tweet.id for tweet in bayer])\n",
    "bayer_df['Date'] = np.array([tweet.created_at for tweet in bayer])\n",
    "bayer_df['Source'] = np.array([tweet.source for tweet in bayer])\n",
    "bayer_df['Likes']  = np.array([tweet.favorite_count for tweet in bayer])\n",
    "bayer_df['RTs']    = np.array([tweet.retweet_count for tweet in bayer])"
   ]
  },
  {
   "cell_type": "code",
   "execution_count": 170,
   "metadata": {},
   "outputs": [],
   "source": [
    "def clean_tweet(tweet):\n",
    "    '''\n",
    "    Utility function to clean the text in a tweet by removing \n",
    "    links and special characters using regex.\n",
    "    '''\n",
    "    return ' '.join(re.sub(\"(@[A-Za-z0-9]+)|([^0-9A-Za-z \\t])|(\\w+:\\/\\/\\S+)\", \" \", tweet).split())\n",
    "\n",
    "def analize_sentiment(tweet):\n",
    "    '''\n",
    "    Utility function to classify the polarity of a tweet\n",
    "    using textblob.\n",
    "    '''\n",
    "    analysis = TextBlob(clean_tweet(tweet))\n",
    "    if analysis.sentiment.polarity > 0:\n",
    "        return 1\n",
    "    elif analysis.sentiment.polarity == 0:\n",
    "        return 0\n",
    "    else:\n",
    "        return -1"
   ]
  },
  {
   "cell_type": "code",
   "execution_count": 171,
   "metadata": {},
   "outputs": [
    {
     "name": "stdout",
     "output_type": "stream",
     "text": [
      "Percentage of positive tweets by Honeywell: 61.5%\n",
      "Percentage of neutral tweets by Honeywell: 31.5%\n",
      "Percentage of negative tweets by Honeywell: 7.0%\n"
     ]
    }
   ],
   "source": [
    "honeywell_df['SA'] = np.array([ analize_sentiment(tweet) for tweet in honeywell_df['Tweets'] ])\n",
    "pos_tweets_h = [ tweet for index, tweet in enumerate(honeywell_df['Tweets']) if honeywell_df['SA'][index] > 0]\n",
    "neu_tweets_h = [ tweet for index, tweet in enumerate(honeywell_df['Tweets']) if honeywell_df['SA'][index] == 0]\n",
    "neg_tweets_h = [ tweet for index, tweet in enumerate(honeywell_df['Tweets']) if honeywell_df['SA'][index] < 0]\n",
    "\n",
    "print(\"Percentage of positive tweets by Honeywell: {}%\".format(len(pos_tweets_h)*100/len(honeywell_df['Tweets'])))\n",
    "print(\"Percentage of neutral tweets by Honeywell: {}%\".format(len(neu_tweets_h)*100/len(honeywell_df['Tweets'])))\n",
    "print(\"Percentage of negative tweets by Honeywell: {}%\".format(len(neg_tweets_h)*100/len(honeywell_df['Tweets'])))"
   ]
  },
  {
   "cell_type": "code",
   "execution_count": 172,
   "metadata": {},
   "outputs": [
    {
     "name": "stdout",
     "output_type": "stream",
     "text": [
      "Percentage of positive tweets by Synchrony: 55.5%\n",
      "Percentage of neutral tweets by Synchrony: 38.5%\n",
      "Percentage of negative tweets by Synchrony: 6.0%\n"
     ]
    }
   ],
   "source": [
    "synch_df['SA'] = np.array([ analize_sentiment(tweet) for tweet in synch_df['Tweets'] ])\n",
    "pos_tweets_s = [ tweet for index, tweet in enumerate(synch_df['Tweets']) if synch_df['SA'][index] > 0]\n",
    "neu_tweets_s = [ tweet for index, tweet in enumerate(synch_df['Tweets']) if synch_df['SA'][index] == 0]\n",
    "neg_tweets_s = [ tweet for index, tweet in enumerate(synch_df['Tweets']) if synch_df['SA'][index] < 0]\n",
    "\n",
    "print(\"Percentage of positive tweets by Synchrony: {}%\".format(len(pos_tweets_s)*100/len(synch_df['Tweets'])))\n",
    "print(\"Percentage of neutral tweets by Synchrony: {}%\".format(len(neu_tweets_s)*100/len(synch_df['Tweets'])))\n",
    "print(\"Percentage of negative tweets by Synchrony: {}%\".format(len(neg_tweets_s)*100/len(synch_df['Tweets'])))"
   ]
  },
  {
   "cell_type": "code",
   "execution_count": 173,
   "metadata": {},
   "outputs": [
    {
     "name": "stdout",
     "output_type": "stream",
     "text": [
      "Percentage of positive tweets by 3M: 32.5%\n",
      "Percentage of neutral tweets by 3M: 38.0%\n",
      "Percentage of negative tweets by 3M: 29.5%\n"
     ]
    }
   ],
   "source": [
    "m_3_df['SA'] = np.array([ analize_sentiment(tweet) for tweet in m_3_df['Tweets'] ])\n",
    "pos_tweets_m = [ tweet for index, tweet in enumerate(m_3_df['Tweets']) if m_3_df['SA'][index] > 0]\n",
    "neu_tweets_m = [ tweet for index, tweet in enumerate(m_3_df['Tweets']) if m_3_df['SA'][index] == 0]\n",
    "neg_tweets_m = [ tweet for index, tweet in enumerate(m_3_df['Tweets']) if m_3_df['SA'][index] < 0]\n",
    "\n",
    "print(\"Percentage of positive tweets by 3M: {}%\".format(len(pos_tweets_m)*100/len(m_3_df['Tweets'])))\n",
    "print(\"Percentage of neutral tweets by 3M: {}%\".format(len(neu_tweets_m)*100/len(m_3_df['Tweets'])))\n",
    "print(\"Percentage of negative tweets by 3M: {}%\".format(len(neg_tweets_m)*100/len(m_3_df['Tweets'])))"
   ]
  },
  {
   "cell_type": "code",
   "execution_count": 174,
   "metadata": {},
   "outputs": [
    {
     "name": "stdout",
     "output_type": "stream",
     "text": [
      "Percentage of positive tweets by bayer: 47.5%\n",
      "Percentage of neutral tweets by bayer: 51.5%\n",
      "Percentage de negative tweets by bayer: 1.0%\n"
     ]
    }
   ],
   "source": [
    "bayer_df['SA'] = np.array([ analize_sentiment(tweet) for tweet in bayer_df['Tweets'] ])\n",
    "pos_tweets_b = [ tweet for index, tweet in enumerate(bayer_df['Tweets']) if bayer_df['SA'][index] > 0]\n",
    "neu_tweets_b = [ tweet for index, tweet in enumerate(bayer_df['Tweets']) if bayer_df['SA'][index] == 0]\n",
    "neg_tweets_b = [ tweet for index, tweet in enumerate(bayer_df['Tweets']) if bayer_df['SA'][index] < 0]\n",
    "\n",
    "print(\"Percentage of positive tweets by bayer: {}%\".format(len(pos_tweets_b)*100/len(bayer_df['Tweets'])))\n",
    "print(\"Percentage of neutral tweets by bayer: {}%\".format(len(neu_tweets_b)*100/len(bayer_df['Tweets'])))\n",
    "print(\"Percentage de negative tweets by bayer: {}%\".format(len(neg_tweets_b)*100/len(bayer_df['Tweets'])))"
   ]
  },
  {
   "cell_type": "code",
   "execution_count": 158,
   "metadata": {},
   "outputs": [],
   "source": [
    "h_t = pd.Series(data = honeywell_df['SA'].values,index = honeywell_df['Date'])\n",
    "s_t = pd.Series(data = synch_df['SA'].values,index = synch_df['Date'])\n",
    "m_t = pd.Series(data = m_3_df['SA'].values,index = m_3_df['Date'])\n",
    "b_t = pd.Series(data = bayer_df['SA'].values,index = bayer_df['Date'])\n"
   ]
  },
  {
   "cell_type": "code",
   "execution_count": 157,
   "metadata": {},
   "outputs": [
    {
     "data": {
      "text/plain": [
       "{-1: 14, 0: 58, 1: 128}"
      ]
     },
     "execution_count": 157,
     "metadata": {},
     "output_type": "execute_result"
    }
   ],
   "source": [
    "dict(honeywell_df['SA'].value_counts())"
   ]
  },
  {
   "cell_type": "code",
   "execution_count": null,
   "metadata": {},
   "outputs": [],
   "source": []
  },
  {
   "cell_type": "code",
   "execution_count": null,
   "metadata": {
    "collapsed": true
   },
   "outputs": [],
   "source": []
  }
 ],
 "metadata": {
  "kernelspec": {
   "display_name": "Python 3",
   "language": "python",
   "name": "python3"
  },
  "language_info": {
   "codemirror_mode": {
    "name": "ipython",
    "version": 3
   },
   "file_extension": ".py",
   "mimetype": "text/x-python",
   "name": "python",
   "nbconvert_exporter": "python",
   "pygments_lexer": "ipython3",
   "version": "3.6.4"
  }
 },
 "nbformat": 4,
 "nbformat_minor": 2
}
